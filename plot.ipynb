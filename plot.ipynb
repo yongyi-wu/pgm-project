{
 "cells": [
  {
   "cell_type": "code",
   "execution_count": null,
   "metadata": {},
   "outputs": [],
   "source": [
    "import json\n",
    "import os\n",
    "from collections import defaultdict\n",
    "\n",
    "import numpy as np\n",
    "import pandas as pd\n",
    "import matplotlib.pyplot as plt"
   ]
  },
  {
   "cell_type": "code",
   "execution_count": null,
   "metadata": {},
   "outputs": [],
   "source": [
    "result_dir = '/home/ubuntu/DIG/benchmarks/xgraph/result_jsons'\n",
    "\n",
    "results = defaultdict(dict)\n",
    "for dataset in os.listdir(result_dir):\n",
    "    file = open(os.path.join(result_dir, dataset), 'r')\n",
    "    for explainer, result in json.load(file).items():\n",
    "        results[dataset][explainer] = next(iter(result.values()))"
   ]
  },
  {
   "cell_type": "code",
   "execution_count": null,
   "metadata": {},
   "outputs": [],
   "source": [
    "dataset_mapping = {\n",
    "    'ba_2motifs': 'BA-2Motifs',\n",
    "    'ba_shapes': 'BA-shapes',\n",
    "    'bbbp': 'BBBP',\n",
    "    'graph_sst2': 'Graph-SST2',\n",
    "    'graph_sst5': 'Graph-SST5',\n",
    "    'twitter': 'Graph-Twitter'\n",
    "}\n",
    "explainer_mapping = {\n",
    "    'subgraphx': ('SubgraphX', 'o'),\n",
    "    'gnn_explainer': ('GNNExplainer', 's'),\n",
    "    'pgexplainer': ('PGExplainer', '^')\n",
    "}"
   ]
  },
  {
   "cell_type": "code",
   "execution_count": null,
   "metadata": {},
   "outputs": [],
   "source": [
    "fig, axs = plt.subplots(2, 3, figsize=(12, 4), sharex=True)\n",
    "for i, (data_key, dataset) in enumerate(dataset_mapping.items()):\n",
    "    ax = axs[i // 3, i % 3]\n",
    "    result = results[f'{data_key}.json']\n",
    "    for expl_key, (explainer, marker) in explainer_mapping.items():\n",
    "        ax.plot(result[expl_key]['sparsity'], result[expl_key]['fidelity'], marker, label=explainer)\n",
    "    ax.set_xlabel('.', color=(0, 0, 0, 0))\n",
    "    ax.set_ylabel('.', color=(0, 0, 0, 0))\n",
    "    ax.set_title(dataset)\n",
    "    ax.set_xlim(0.4, 0.9)\n",
    "fig.legend(*ax.get_legend_handles_labels(), loc='center', bbox_to_anchor=(0.5, 1.05), ncol=3)\n",
    "fig.supxlabel('Sparsity')\n",
    "fig.supylabel('Fidelity+')\n",
    "fig.tight_layout(pad=0.25)"
   ]
  },
  {
   "cell_type": "code",
   "execution_count": null,
   "metadata": {},
   "outputs": [],
   "source": [
    "fig, axs = plt.subplots(2, 3, figsize=(12, 4), sharex=True)\n",
    "for i, (data_key, dataset) in enumerate(dataset_mapping.items()):\n",
    "    ax = axs[i // 3, i % 3]\n",
    "    result = results[f'{data_key}.json']\n",
    "    for expl_key, (explainer, marker) in explainer_mapping.items():\n",
    "        ax.plot(result[expl_key]['sparsity'], result[expl_key]['fidelity_inv'], marker, label=explainer)\n",
    "    ax.set_xlabel('.', color=(0, 0, 0, 0))\n",
    "    ax.set_ylabel('.', color=(0, 0, 0, 0))\n",
    "    ax.set_title(dataset)\n",
    "    ax.set_xlim(0.4, 0.9)\n",
    "fig.legend(*ax.get_legend_handles_labels(), loc='center', bbox_to_anchor=(0.5, 1.05), ncol=3)\n",
    "fig.supxlabel('Sparsity')\n",
    "fig.supylabel('Fidelity-')\n",
    "fig.tight_layout(pad=0.25)"
   ]
  },
  {
   "cell_type": "code",
   "execution_count": null,
   "metadata": {},
   "outputs": [],
   "source": []
  },
  {
   "cell_type": "code",
   "execution_count": null,
   "metadata": {},
   "outputs": [],
   "source": [
    "log_dir = '/home/ubuntu/DIG/logs'\n",
    "\n",
    "times = defaultdict(dict)\n",
    "for explainer in os.listdir(log_dir):\n",
    "    for data_key, dataset in dataset_mapping.items():\n",
    "        lines = open(os.path.join(log_dir, explainer, f'{data_key}.log')).readlines()\n",
    "        try:\n",
    "            times[dataset][explainer] = (pd.to_datetime(lines[-1]) - pd.to_datetime(lines[0])).total_seconds()\n",
    "        except:\n",
    "            print(dataset, explainer)"
   ]
  },
  {
   "cell_type": "code",
   "execution_count": null,
   "metadata": {},
   "outputs": [],
   "source": []
  }
 ],
 "metadata": {
  "kernelspec": {
   "display_name": "Python 3.9.13 ('pytorch')",
   "language": "python",
   "name": "python3"
  },
  "language_info": {
   "codemirror_mode": {
    "name": "ipython",
    "version": 3
   },
   "file_extension": ".py",
   "mimetype": "text/x-python",
   "name": "python",
   "nbconvert_exporter": "python",
   "pygments_lexer": "ipython3",
   "version": "3.9.13"
  },
  "orig_nbformat": 4,
  "vscode": {
   "interpreter": {
    "hash": "2d58e898dde0263bc564c6968b04150abacfd33eed9b19aaa8e45c040360e146"
   }
  }
 },
 "nbformat": 4,
 "nbformat_minor": 2
}
